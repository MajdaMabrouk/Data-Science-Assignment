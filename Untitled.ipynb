{
  "metadata": {
    "kernelspec": {
      "name": "python",
      "display_name": "Python (Pyodide)",
      "language": "python"
    },
    "language_info": {
      "codemirror_mode": {
        "name": "python",
        "version": 3
      },
      "file_extension": ".py",
      "mimetype": "text/x-python",
      "name": "python",
      "nbconvert_exporter": "python",
      "pygments_lexer": "ipython3",
      "version": "3.8"
    }
  },
  "nbformat_minor": 4,
  "nbformat": 4,
  "cells": [
    {
      "cell_type": "markdown",
      "source": "# Final Project: Data Science Tools\n",
      "metadata": {}
    },
    {
      "cell_type": "markdown",
      "source": "## Introduction\nThis notebook is part of the final project for the Data Science Tools course.  \nIt demonstrates the use of Jupyterlite Notebook, Markdown, and Python code cells.\n",
      "metadata": {}
    },
    {
      "cell_type": "markdown",
      "source": "## Data Science Languages\n * Python\n * R\n * SQL\n * Scala\n * Java\n * C++\n * Julia",
      "metadata": {}
    },
    {
      "cell_type": "markdown",
      "source": "## Data Science Libraries\n * Pandas\n *  NumPy\n *  SciPy\n *  Matplotlib ",
      "metadata": {}
    },
    {
      "cell_type": "markdown",
      "source": " \n |Data science tools| Categories|\n |-------------------|----|\n |Data Management Tools|MySQL,PostgreSQL,Apache CouchDB ,MongoDB,Apache Cassandra,HDFS,Ceph,Elasticsearch|\n |Data Integration and Transformation Tools|Apache Airflow,Kubeflow,Apache Kafka,Apache NiFi,Apache SparkSQL,NodeRED|\n |Data Visualization Tools|PixieDust,Hue,Kibana,Apache Superset|\n |Model Deployment Tools|Apache PredictionIO,Kubernetes,Apache Seldon,MLeap,TensorFlow Lite,Red hat OpenShift,TensorFlow Serving,TensorFlow.js|\n |Model Monitoring and Assessment Tools|ModelDB,Prometheus,IBM AI Fairness 360,IBM AI Explainability 360,IBM Adversarial Robustness 360 Toolbox|\n |Code Development and Execution Tools|Jupyter IDE,RStudio,Microsoft Visual Studio,PyCharm,Spyder,Anaconda Navigator|\n |Code Asset Management Tools|Git,GitLab,GitHub,Bitbucket from Atlassian|\n\n\n\n\n\n\n\n\n\n ",
      "metadata": {}
    },
    {
      "cell_type": "markdown",
      "source": "arithmetic expression examples:\n* 8+5\n* 12−7\n* 6×4\n* 20÷5\n",
      "metadata": {}
    },
    {
      "cell_type": "code",
      "source": "a = 5\nb = 3\n# Multiply\nproduct = a * b\nsum_result = a + b\nprint(\"Multiplication:\", product)\nprint(\"Addition:\", sum_result)",
      "metadata": {
        "trusted": true
      },
      "outputs": [
        {
          "name": "stdout",
          "text": "Multiplication: 15\nAddition: 8\n",
          "output_type": "stream"
        }
      ],
      "execution_count": 2
    },
    {
      "cell_type": "code",
      "source": "minutes = 150\nhours = minutes / 60\n\nprint(minutes, \"minutes =\", hours, \"hours\")",
      "metadata": {
        "trusted": true
      },
      "outputs": [
        {
          "name": "stdout",
          "text": "150 minutes = 2.5 hours\n",
          "output_type": "stream"
        }
      ],
      "execution_count": 3
    },
    {
      "cell_type": "markdown",
      "source": "## Objectives\n- Use Markdown to create structured notebook content  \n- Perform basic arithmetic operations in Python  \n- Convert units using Python code  \n- Share Jupyterlite Notebook publicly on GitHub  \n",
      "metadata": {}
    },
    {
      "cell_type": "markdown",
      "source": "## Author\nMajda Mabrouk\n",
      "metadata": {}
    }
  ]
}